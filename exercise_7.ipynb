{
  "cells": [
    {
      "cell_type": "markdown",
      "metadata": {
        "id": "x5yz6q0kG33h"
      },
      "source": [
        "# Convolutional Neural Networks (CNN)\n",
        "\n"
      ]
    },
    {
      "cell_type": "markdown",
      "metadata": {
        "id": "5_441i8WbIVn"
      },
      "source": [
        "**To work on the tasks from this worksheet, you will be provided with an .ipynb file that is best opened with Google Colab or Jupyter Notebook. Please insert your code into the designated cells.**"
      ]
    },
    {
      "cell_type": "markdown",
      "metadata": {
        "id": "7_w0nOZfv2K3"
      },
      "source": [
        "## Task: Implementation of a simple CNN\n"
      ]
    },
    {
      "cell_type": "markdown",
      "metadata": {
        "id": "sdBteN19HC5t"
      },
      "source": [
        "In this task, you will design and implement a convolutional neural network (CNN) using Keras, learning specific aspects of image classification using the CIFAR-10 dataset. This will provide you with detailed insight into the intricacies and best practices of implementing CNNs."
      ]
    },
    {
      "cell_type": "markdown",
      "metadata": {
        "id": "HrDaZ98OHFkI"
      },
      "source": [
        "Implement a simple convolutional neural network (CNN) using Keras to classify images from the CIFAR-10 dataset. Your CNN should have at least one convolutional layer, one pooling layer, and one fully connected layer. Use an optimizer of your choice. Train your model and report on the accuracy on the training and test data.\n",
        "\n",
        "\n",
        "**Additional information about the task:**\n",
        "*   A large portion of the required code is already provided for you. Please familiarize yourself with these parts first and then extend the code in the designated cells.\n",
        "*   The goal is to create the model definition and train the network using the Keras library, as well as to compile the model with a suitable loss function and optimizer.\n"
      ]
    },
    {
      "cell_type": "markdown",
      "metadata": {
        "id": "pMTLGsW1v-Iy"
      },
      "source": [
        "### 1. Import of Required Libraries and Modules"
      ]
    },
    {
      "cell_type": "code",
      "execution_count": null,
      "metadata": {
        "id": "MdM0XBT1JXAk"
      },
      "outputs": [],
      "source": [
        "!pip install numpy==1.23.5\n",
        "!pip install keras==2.13.1\n",
        "!pip install matplotlib==3.7.1"
      ]
    },
    {
      "cell_type": "code",
      "execution_count": null,
      "metadata": {
        "id": "DEXhT-4ovyl6"
      },
      "outputs": [],
      "source": [
        "import numpy as np\n",
        "from keras.datasets import cifar10\n",
        "from keras.models import Sequential\n",
        "from keras.layers import Dense, Flatten, Conv2D, MaxPooling2D\n",
        "from keras.utils import to_categorical\n",
        "import matplotlib.pyplot as plt"
      ]
    },
    {
      "cell_type": "markdown",
      "metadata": {
        "id": "-LjXBFfdwQkT"
      },
      "source": [
        "### 2. Load and split the CIFAR-10 Dataset"
      ]
    },
    {
      "cell_type": "code",
      "execution_count": null,
      "metadata": {
        "id": "b5_pkybNwXkk"
      },
      "outputs": [],
      "source": [
        "(train_images, train_labels), (test_images, test_labels) = cifar10.load_data()"
      ]
    },
    {
      "cell_type": "markdown",
      "metadata": {
        "id": "ZUnI-f6z10gX"
      },
      "source": [
        "#### Visualize some example images from the training set"
      ]
    },
    {
      "cell_type": "code",
      "execution_count": null,
      "metadata": {
        "id": "f6UkXv691-BT"
      },
      "outputs": [],
      "source": [
        "indices = np.random.choice(len(train_images), 4, replace=False)\n",
        "\n",
        "fig, axes = plt.subplots(1, 4, figsize=(12, 4))\n",
        "for ax, index in zip(axes, indices):\n",
        "    ax.imshow(train_images[index])\n",
        "    ax.axis('off')\n",
        "plt.tight_layout()\n",
        "plt.show()"
      ]
    },
    {
      "cell_type": "markdown",
      "metadata": {
        "id": "klz-6uCRwbuf"
      },
      "source": [
        "### 3. Normalize pixel values of the images"
      ]
    },
    {
      "cell_type": "code",
      "execution_count": null,
      "metadata": {
        "id": "BC44Xy4dwbJn"
      },
      "outputs": [],
      "source": [
        "train_images = train_images.astype('float32') / 255\n",
        "test_images = test_images.astype('float32') / 255"
      ]
    },
    {
      "cell_type": "markdown",
      "metadata": {
        "id": "OGDR139Bwjgw"
      },
      "source": [
        "### 4. Categorize training and test labels"
      ]
    },
    {
      "cell_type": "code",
      "execution_count": null,
      "metadata": {
        "id": "l7QF7pl2wi4k"
      },
      "outputs": [],
      "source": [
        "train_labels = to_categorical(train_labels)\n",
        "test_labels = to_categorical(test_labels)"
      ]
    },
    {
      "cell_type": "markdown",
      "metadata": {
        "id": "YFXjaM5awq0n"
      },
      "source": [
        "### 5. Define the Convolutional Neural Network (CNN) model with Keras\n",
        ">Notes:\n",
        ">*   Make sure that the input format of the CNN matches that of the images.\n",
        ">*   The number of neurons in the output layer should correspond to the number of categories to be classified and should use the softmax activation function."
      ]
    },
    {
      "cell_type": "code",
      "execution_count": null,
      "metadata": {
        "id": "a0eDejHcwwEW"
      },
      "outputs": [],
      "source": [
        "# Your Code...\n",
        "# Note: The model nome must be 'model'."
      ]
    },
    {
      "cell_type": "markdown",
      "metadata": {
        "id": "_JI8qsbwxlo3"
      },
      "source": [
        "### 6. Compile the model with optimizer and loss function\n",
        ">Note:\n",
        ">*   Use 'categorical_crossentropy' as the loss function and 'accuracy' as the metric."
      ]
    },
    {
      "cell_type": "code",
      "execution_count": null,
      "metadata": {
        "id": "kGQr6Pilxpfa"
      },
      "outputs": [],
      "source": [
        "model.compile(\" Your Code... \")"
      ]
    },
    {
      "cell_type": "markdown",
      "metadata": {
        "id": "lGRzKkMmxp9A"
      },
      "source": [
        "### 7. Train the CNN model and assess performance using validation data\n",
        ">Notes:\n",
        ">*   During the training of the model, the validation data must also be provided along with the training data.\n",
        ">*   The execution of the 10 training epochs takes approximately 7 minutes."
      ]
    },
    {
      "cell_type": "code",
      "execution_count": null,
      "metadata": {
        "id": "v68OfCs23Gmn"
      },
      "outputs": [],
      "source": [
        "epochs=10\n",
        "batch_size=64"
      ]
    },
    {
      "cell_type": "code",
      "execution_count": null,
      "metadata": {
        "id": "DT0tjwy5xtLi"
      },
      "outputs": [],
      "source": [
        "history = model.fit(\" Your Code... \")"
      ]
    },
    {
      "cell_type": "markdown",
      "metadata": {
        "id": "CJZhOBDCxtWh"
      },
      "source": [
        "### 8. Evaluate training and test accuracy of the model"
      ]
    },
    {
      "cell_type": "code",
      "execution_count": null,
      "metadata": {
        "id": "k7yTsePPx60F"
      },
      "outputs": [],
      "source": [
        "train_loss, train_acc = model.evaluate(train_images, train_labels, verbose=0)\n",
        "print(f\"Training Accuracy: {train_acc * 100:.2f}%\")\n",
        "\n",
        "test_loss, test_acc = model.evaluate(test_images, test_labels, verbose=0)\n",
        "print(f\"Test Accuracy: {test_acc * 100:.2f}%\")"
      ]
    },
    {
      "cell_type": "markdown",
      "metadata": {
        "id": "mGpyfWVFK5yB"
      },
      "source": [
        "### 9. Visualize accuracy trends during training"
      ]
    },
    {
      "cell_type": "code",
      "execution_count": null,
      "metadata": {
        "id": "B2b-GLpJK6em"
      },
      "outputs": [],
      "source": [
        "train_accuracy = history.history['accuracy']\n",
        "\n",
        "test_accuracy = history.history['val_accuracy']\n",
        "\n",
        "plt.plot(train_accuracy, label='Training Accuracy')\n",
        "plt.plot(test_accuracy, label='Test Accuracy')\n",
        "plt.title('Training and Test Accuracy')\n",
        "plt.xlabel('Epoch')\n",
        "plt.ylabel('Accuracy')\n",
        "plt.legend()\n",
        "plt.show()"
      ]
    }
  ],
  "metadata": {
    "colab": {
      "provenance": []
    },
    "kernelspec": {
      "display_name": "Python 3",
      "language": "python",
      "name": "python3"
    },
    "language_info": {
      "codemirror_mode": {
        "name": "ipython",
        "version": 3
      },
      "file_extension": ".py",
      "mimetype": "text/x-python",
      "name": "python",
      "nbconvert_exporter": "python",
      "pygments_lexer": "ipython3",
      "version": "3.8.5"
    }
  },
  "nbformat": 4,
  "nbformat_minor": 0
}